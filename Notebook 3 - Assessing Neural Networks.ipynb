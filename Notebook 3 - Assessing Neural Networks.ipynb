{
 "cells": [
  {
   "cell_type": "markdown",
   "metadata": {},
   "source": [
    "# Assessing Neural Networks\n",
    "\n",
    "This notebook demonstrates the use of a few tools for visualizing and assessing neural networks. In particular, this notebook will demonstrate the use of two tools for visualizing and assessing Keras neural networks:\n",
    "* TensorBoard - web dashboard for monitoring progress of TensorFlow graphs (Keras can be hooked up to TensorBoard)"
   ]
  },
  {
   "cell_type": "markdown",
   "metadata": {},
   "source": [
    "## Using a Baseline Keras Model\n",
    "\n",
    "We'll start with a small, quick-to-train, poorly-performing Keras model, so that we can get straight to the mechanics of the tools.\n",
    "\n",
    "To ease the assembly of models, and make them hot-swappable, we wrap model construction with objects in separate Python files. The models are named after American cities, and get progressively complex as the cities move east.\n",
    "* Seattle - first pass, very basic CNN model, 50% accuracy\n",
    "* Reno\n",
    "* Phoenix\n",
    "* Yellowstone\n",
    "* Denver\n",
    "* Omaha\n",
    "* Kansas City\n",
    "* Chicago\n",
    "* Atlanta\n",
    "* Richmond\n",
    "* Washington\n",
    "* Philly\n",
    "* Manhattan\n",
    "* Boston"
   ]
  },
  {
   "cell_type": "code",
   "execution_count": 1,
   "metadata": {
    "collapsed": true
   },
   "outputs": [],
   "source": [
    "%matplotlib inline"
   ]
  },
  {
   "cell_type": "code",
   "execution_count": 2,
   "metadata": {},
   "outputs": [
    {
     "name": "stderr",
     "output_type": "stream",
     "text": [
      "Using TensorFlow backend.\n"
     ]
    }
   ],
   "source": [
    "import numpy as np\n",
    "np.random.seed(1337)\n",
    "from scipy.misc import imresize \n",
    "\n",
    "# neural network constructor\n",
    "from inyourface_seattle import seattle_model\n",
    "\n",
    "# data constructor\n",
    "from lfw_fuel import lfw\n",
    "\n",
    "# utils\n",
    "from keras.utils import np_utils\n",
    "from keras import metrics\n",
    "from keras.optimizers import SGD\n",
    "\n",
    "# plots\n",
    "import matplotlib.pyplot as plt"
   ]
  },
  {
   "cell_type": "code",
   "execution_count": 3,
   "metadata": {
    "collapsed": true
   },
   "outputs": [],
   "source": [
    "BATCH_SIZE     = 256#128\n",
    "NB_CLASSES     = 2\n",
    "NB_EPOCH       = 12\n",
    "N_FEATURE_MAPS = 64#32\n",
    "FEATURE_WIDTH  = 64#32\n",
    "FEATURE_HEIGHT = 64#32"
   ]
  },
  {
   "cell_type": "code",
   "execution_count": 4,
   "metadata": {
    "collapsed": true
   },
   "outputs": [],
   "source": [
    "# the data, shuffled and split between train and test sets\n",
    "(X_train, y_train), (X_test, y_test) = lfw.load_data(\"deepfunneled\")"
   ]
  },
  {
   "cell_type": "code",
   "execution_count": 5,
   "metadata": {
    "collapsed": true
   },
   "outputs": [],
   "source": [
    "# The cropImage function starts by cropping the image from 250x250 to 128x128\n",
    "# It then scales the image to feature_width x feature_height\n",
    "def cropImage(im, feature_width = FEATURE_WIDTH, feature_height = FEATURE_HEIGHT):\n",
    "    im2 = np.dstack(im).astype(np.uint8)\n",
    "    # return centered 128x128 from original 250x250 (40% of area)\n",
    "    newim = im2[61:189, 61:189]\n",
    "    sized1 = imresize(newim[:,:,0:3], (feature_width, feature_height), interp=\"bicubic\", mode=\"RGB\")\n",
    "    sized2 = imresize(newim[:,:,3:6], (feature_width, feature_height), interp=\"bicubic\", mode=\"RGB\")\n",
    "    return np.asarray([sized1[:,:,0], sized1[:,:,1], sized1[:,:,2], sized2[:,:,0], sized2[:,:,1], sized2[:,:,2]])\n",
    "\n",
    "# Crop features\n",
    "X_train = np.asarray(list(map(cropImage, X_train)))\n",
    "X_test = np.asarray(list(map(cropImage, X_test)))"
   ]
  },
  {
   "cell_type": "code",
   "execution_count": 6,
   "metadata": {},
   "outputs": [
    {
     "name": "stdout",
     "output_type": "stream",
     "text": [
      "(2200, 6, 64, 64)\n",
      "(1000, 6, 64, 64)\n"
     ]
    }
   ],
   "source": [
    "print(np.shape(X_train))\n",
    "print(np.shape(X_test))"
   ]
  },
  {
   "cell_type": "code",
   "execution_count": 7,
   "metadata": {
    "collapsed": true
   },
   "outputs": [],
   "source": [
    "# convert class vectors to binary class matrices\n",
    "Y_train = np_utils.to_categorical(y_train, NB_CLASSES)\n",
    "Y_test = np_utils.to_categorical(y_test, NB_CLASSES)"
   ]
  },
  {
   "cell_type": "code",
   "execution_count": 8,
   "metadata": {
    "collapsed": true
   },
   "outputs": [],
   "source": [
    "model = seattle_model( batch_size = BATCH_SIZE, \n",
    "                       nb_classes = NB_CLASSES,\n",
    "                       nb_epoch = NB_EPOCH,\n",
    "                       feature_maps = N_FEATURE_MAPS,\n",
    "                       input_width = FEATURE_WIDTH,\n",
    "                       input_height = FEATURE_HEIGHT\n",
    "                     )"
   ]
  },
  {
   "cell_type": "code",
   "execution_count": 9,
   "metadata": {},
   "outputs": [
    {
     "name": "stdout",
     "output_type": "stream",
     "text": [
      "_________________________________________________________________\n",
      "Layer (type)                 Output Shape              Param #   \n",
      "=================================================================\n",
      "conv2d_1 (Conv2D)            (None, 64, 62, 62)        3520      \n",
      "_________________________________________________________________\n",
      "activation_1 (Activation)    (None, 64, 62, 62)        0         \n",
      "_________________________________________________________________\n",
      "conv2d_2 (Conv2D)            (None, 64, 60, 60)        36928     \n",
      "_________________________________________________________________\n",
      "activation_2 (Activation)    (None, 64, 60, 60)        0         \n",
      "_________________________________________________________________\n",
      "max_pooling2d_1 (MaxPooling2 (None, 64, 30, 30)        0         \n",
      "_________________________________________________________________\n",
      "dropout_1 (Dropout)          (None, 64, 30, 30)        0         \n",
      "_________________________________________________________________\n",
      "flatten_1 (Flatten)          (None, 57600)             0         \n",
      "_________________________________________________________________\n",
      "dense_1 (Dense)              (None, 128)               7372928   \n",
      "_________________________________________________________________\n",
      "dropout_2 (Dropout)          (None, 128)               0         \n",
      "_________________________________________________________________\n",
      "predictions (Dense)          (None, 2)                 258       \n",
      "=================================================================\n",
      "Total params: 7,413,634\n",
      "Trainable params: 7,413,634\n",
      "Non-trainable params: 0\n",
      "_________________________________________________________________\n",
      "None\n"
     ]
    }
   ],
   "source": [
    "print(model.summary())"
   ]
  },
  {
   "cell_type": "code",
   "execution_count": 10,
   "metadata": {},
   "outputs": [],
   "source": [
    "# Optimization solver:\n",
    "# Logarithmic loss function, plus stoachastic gradient descent\n",
    "# Configure with a large momentum, large weight decay, small learning rate\n",
    "LEARN_RATE = 0.1\n",
    "MOMENTUM = 0.9\n",
    "DECAY = LEARN_RATE/NB_EPOCH\n",
    "\n",
    "sgd = SGD(lr=LEARN_RATE, momentum=MOMENTUM, decay=DECAY, nesterov=False)\n",
    "model.compile(loss='categorical_crossentropy', \n",
    "              optimizer=sgd, \n",
    "              metrics=[metrics.binary_accuracy, metrics.categorical_accuracy, metrics.mae])"
   ]
  },
  {
   "cell_type": "markdown",
   "metadata": {},
   "source": [
    "## TensorBoard\n",
    "\n",
    "In order to monitor and evaluate how well the neural network learning process is going, the TensorFlow library provides a tool called TensorBoard that will plot various quantities for the neural network versus time."
   ]
  },
  {
   "cell_type": "code",
   "execution_count": 13,
   "metadata": {
    "collapsed": true
   },
   "outputs": [],
   "source": [
    "from keras.callbacks import TensorBoard \n",
    "tb = TensorBoard(log_dir='./logs', write_graph=True, histogram_freq=0, write_images=True, embeddings_freq=0)\n",
    "\n",
    "from keras.callbacks import Callback\n",
    "class LossHistory(Callback):\n",
    "    def on_train_begin(self, logs={}):\n",
    "        self.losses = []\n",
    "    def on_batch_end(self, batch, logs={}):\n",
    "        self.losses.append(logs.get('loss'))\n",
    "\n",
    "history = LossHistory()"
   ]
  },
  {
   "cell_type": "code",
   "execution_count": 14,
   "metadata": {},
   "outputs": [
    {
     "name": "stdout",
     "output_type": "stream",
     "text": [
      "Train on 2200 samples, validate on 1000 samples\n",
      "Epoch 1/12\n",
      "2200/2200 [==============================] - 186s - loss: 0.6945 - binary_accuracy: 0.5005 - categorical_accuracy: 0.5005 - mean_absolute_error: 0.4998 - val_loss: 0.6919 - val_binary_accuracy: 0.5250 - val_categorical_accuracy: 0.5250 - val_mean_absolute_error: 0.4990\n",
      "Epoch 2/12\n",
      "2200/2200 [==============================] - 183s - loss: 0.6862 - binary_accuracy: 0.5455 - categorical_accuracy: 0.5455 - mean_absolute_error: 0.4952 - val_loss: 0.6908 - val_binary_accuracy: 0.5320 - val_categorical_accuracy: 0.5320 - val_mean_absolute_error: 0.4980\n",
      "Epoch 3/12\n",
      "2200/2200 [==============================] - 183s - loss: 0.6781 - binary_accuracy: 0.5582 - categorical_accuracy: 0.5582 - mean_absolute_error: 0.4905 - val_loss: 0.6918 - val_binary_accuracy: 0.5070 - val_categorical_accuracy: 0.5070 - val_mean_absolute_error: 0.4959\n",
      "Epoch 4/12\n",
      "2200/2200 [==============================] - 183s - loss: 0.6692 - binary_accuracy: 0.5555 - categorical_accuracy: 0.5555 - mean_absolute_error: 0.4823 - val_loss: 0.6900 - val_binary_accuracy: 0.5210 - val_categorical_accuracy: 0.5210 - val_mean_absolute_error: 0.4936\n",
      "Epoch 5/12\n",
      "2200/2200 [==============================] - 183s - loss: 0.6542 - binary_accuracy: 0.5905 - categorical_accuracy: 0.5905 - mean_absolute_error: 0.4738 - val_loss: 0.6933 - val_binary_accuracy: 0.5320 - val_categorical_accuracy: 0.5320 - val_mean_absolute_error: 0.4930\n",
      "Epoch 6/12\n",
      "2200/2200 [==============================] - 184s - loss: 0.6424 - binary_accuracy: 0.5995 - categorical_accuracy: 0.5995 - mean_absolute_error: 0.4625 - val_loss: 0.6980 - val_binary_accuracy: 0.5250 - val_categorical_accuracy: 0.5250 - val_mean_absolute_error: 0.4886\n",
      "Epoch 7/12\n",
      "2200/2200 [==============================] - 183s - loss: 0.6222 - binary_accuracy: 0.6264 - categorical_accuracy: 0.6264 - mean_absolute_error: 0.4485 - val_loss: 0.7107 - val_binary_accuracy: 0.5310 - val_categorical_accuracy: 0.5310 - val_mean_absolute_error: 0.4881\n",
      "Epoch 8/12\n",
      "2200/2200 [==============================] - 183s - loss: 0.6002 - binary_accuracy: 0.6314 - categorical_accuracy: 0.6314 - mean_absolute_error: 0.4323 - val_loss: 0.7228 - val_binary_accuracy: 0.5340 - val_categorical_accuracy: 0.5340 - val_mean_absolute_error: 0.4845\n",
      "Epoch 9/12\n",
      "2200/2200 [==============================] - 183s - loss: 0.5759 - binary_accuracy: 0.6550 - categorical_accuracy: 0.6550 - mean_absolute_error: 0.4142 - val_loss: 0.7420 - val_binary_accuracy: 0.5290 - val_categorical_accuracy: 0.5290 - val_mean_absolute_error: 0.4827\n",
      "Epoch 10/12\n",
      "2200/2200 [==============================] - 183s - loss: 0.5587 - binary_accuracy: 0.6764 - categorical_accuracy: 0.6764 - mean_absolute_error: 0.4030 - val_loss: 0.7649 - val_binary_accuracy: 0.5150 - val_categorical_accuracy: 0.5150 - val_mean_absolute_error: 0.4826\n",
      "Epoch 11/12\n",
      "2200/2200 [==============================] - 183s - loss: 0.5336 - binary_accuracy: 0.6773 - categorical_accuracy: 0.6773 - mean_absolute_error: 0.3851 - val_loss: 0.7937 - val_binary_accuracy: 0.5210 - val_categorical_accuracy: 0.5210 - val_mean_absolute_error: 0.4792\n",
      "Epoch 12/12\n",
      "2200/2200 [==============================] - 183s - loss: 0.5116 - binary_accuracy: 0.6986 - categorical_accuracy: 0.6986 - mean_absolute_error: 0.3661 - val_loss: 0.8393 - val_binary_accuracy: 0.5210 - val_categorical_accuracy: 0.5210 - val_mean_absolute_error: 0.4771\n"
     ]
    },
    {
     "data": {
      "text/plain": [
       "<keras.callbacks.History at 0x11ece70b8>"
      ]
     },
     "execution_count": 14,
     "metadata": {},
     "output_type": "execute_result"
    }
   ],
   "source": [
    "model.fit(X_train, Y_train, \n",
    "          batch_size = BATCH_SIZE, epochs=NB_EPOCH, verbose=1, \n",
    "          validation_data=(X_test, Y_test),\n",
    "          callbacks=[tb,history])"
   ]
  },
  {
   "cell_type": "code",
   "execution_count": 15,
   "metadata": {},
   "outputs": [
    {
     "name": "stdout",
     "output_type": "stream",
     "text": [
      "----------------------------------------\n",
      "Seattle Model (12 epochs):\n",
      "Test accuracy: 52.100000%\n"
     ]
    }
   ],
   "source": [
    "# lower-case y_test is not encoded, CAPITAL Y_test is encoded - use CAPITAL-Y_test!!\n",
    "score = model.evaluate(X_test, Y_test, verbose=0)\n",
    "\n",
    "print(\"-\"*40)\n",
    "print(\"Seattle Model (12 epochs):\")\n",
    "print('Test accuracy: {0:%}'.format(score[1]))"
   ]
  },
  {
   "cell_type": "code",
   "execution_count": 16,
   "metadata": {},
   "outputs": [
    {
     "data": {
      "text/plain": [
       "[<matplotlib.lines.Line2D at 0x125f81ba8>]"
      ]
     },
     "execution_count": 16,
     "metadata": {},
     "output_type": "execute_result"
    },
    {
     "data": {
      "image/png": "[encoded data removed]",
      "text/plain": [
       "<matplotlib.figure.Figure at 0x1262195c0>"
      ]
     },
     "metadata": {},
     "output_type": "display_data"
    }
   ],
   "source": [
    "yy = history.losses\n",
    "xx = range(len(yy))\n",
    "plt.plot(xx,yy)"
   ]
  },
  {
   "cell_type": "code",
   "execution_count": null,
   "metadata": {
    "collapsed": true
   },
   "outputs": [],
   "source": []
  }
 ],
 "metadata": {
  "kernelspec": {
   "display_name": "Python 3",
   "language": "python",
   "name": "python3"
  },
  "language_info": {
   "codemirror_mode": {
    "name": "ipython",
    "version": 3
   },
   "file_extension": ".py",
   "mimetype": "text/x-python",
   "name": "python",
   "nbconvert_exporter": "python",
   "pygments_lexer": "ipython3",
   "version": "3.6.1"
  }
 },
 "nbformat": 4,
 "nbformat_minor": 2
}
