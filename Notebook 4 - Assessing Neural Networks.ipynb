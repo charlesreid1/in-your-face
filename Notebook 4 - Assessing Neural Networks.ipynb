{
 "cells": [
  {
   "cell_type": "markdown",
   "metadata": {},
   "source": [
    "# Assessing Neural Networks\n",
    "\n",
    "Now that we've gotten our basic neural network model working, we want to know how good the model is. This notebook covers a few tools that we can use to assess a neural network."
   ]
  },
  {
   "cell_type": "markdown",
   "metadata": {},
   "source": [
    "## Table of Contents\n",
    "\n",
    "* [Training and Assessment Procedure](#training)\n",
    "* [Baseline Keras Model Architecture: The SeattleModel](#seattle)\n",
    "* [Keras Callbacks to Assess Accuracy](#callbacks)\n",
    "    * [TensorBoard](#tensorboard)\n",
    "    * [Loss History](#loss-history)\n",
    "* [Summary](#summary)\n",
    "\n",
    "<a name=\"training\"></a>\n",
    "## Training and Assessment Procedure\n",
    "\n",
    "The basic procedure we follow for training and assessing a neural network model looks like this:\n",
    "\n",
    "* Create a model architecture and set model parameters\n",
    "* Load the data from fuel\n",
    "* Clean the data\n",
    "* Create model callbacks (TensorFlow, loss history, etc.)\n",
    "* Train the model\n",
    "* Assess model performance\n",
    "\n",
    "This cycle is repeated as the model architectures are tweaked and improved. The iterative process of repeating these steps is the hyperparameter optimization procedure."
   ]
  },
  {
   "cell_type": "markdown",
   "metadata": {},
   "source": [
    "<a name=\"seattle\"></a>\n",
    "## Baseline Keras Model Architecture: The Seattle Model\n",
    "\n",
    "Our baseline model architecture will be the Seattle model. This is the very simple convolutional neural network we saw in Notebook 3. \n",
    "\n",
    "As model architectures get more complicated and add addiitonal layers, they will be named after cities that move progressively eastward. (Reno, Phoenix, Yellowstone, Denver, Omaha, etc). The architecture refers only to the arrangement of different layers, and does not specify the size of each layer. So you might have a very simple architecture with many, many neurons in a given layer (requiring more time to train), or you might have a very complicated architecture with very few neurons in a given layer (making training much faster).\n",
    "\n",
    "We've broken out the creation of the Keras model into a function in `models.py`, and we've put the cropping and downsampling function into a function in `clean.py`."
   ]
  },
  {
   "cell_type": "code",
   "execution_count": 1,
   "metadata": {},
   "outputs": [
    {
     "name": "stderr",
     "output_type": "stream",
     "text": [
      "Using TensorFlow backend.\n"
     ]
    }
   ],
   "source": [
    "%matplotlib inline\n",
    "import numpy as np\n",
    "\n",
    "from lfw_fuel import lfw\n",
    "from models import seattle_model\n",
    "from clean import clean\n",
    "\n",
    "modelA = seattle_model() # Use all the defaults. This already calls compile()."
   ]
  },
  {
   "cell_type": "code",
   "execution_count": 2,
   "metadata": {},
   "outputs": [
    {
     "name": "stdout",
     "output_type": "stream",
     "text": [
      "_________________________________________________________________\n",
      "Layer (type)                 Output Shape              Param #   \n",
      "=================================================================\n",
      "conv2d_1 (Conv2D)            (None, 32, 32, 32)        4832      \n",
      "_________________________________________________________________\n",
      "conv2d_2 (Conv2D)            (None, 32, 32, 32)        25632     \n",
      "_________________________________________________________________\n",
      "max_pooling2d_1 (MaxPooling2 (None, 16, 16, 32)        0         \n",
      "_________________________________________________________________\n",
      "dropout_1 (Dropout)          (None, 16, 16, 32)        0         \n",
      "_________________________________________________________________\n",
      "flatten_1 (Flatten)          (None, 8192)              0         \n",
      "_________________________________________________________________\n",
      "dense_1 (Dense)              (None, 128)               1048704   \n",
      "_________________________________________________________________\n",
      "dropout_2 (Dropout)          (None, 128)               0         \n",
      "_________________________________________________________________\n",
      "dense_2 (Dense)              (None, 1)                 129       \n",
      "=================================================================\n",
      "Total params: 1,079,297\n",
      "Trainable params: 1,079,297\n",
      "Non-trainable params: 0\n",
      "_________________________________________________________________\n",
      "None\n"
     ]
    }
   ],
   "source": [
    "print(modelA.summary())"
   ]
  },
  {
   "cell_type": "markdown",
   "metadata": {},
   "source": [
    "We'll also load the data, just so we've got it ready to go."
   ]
  },
  {
   "cell_type": "code",
   "execution_count": 3,
   "metadata": {},
   "outputs": [],
   "source": [
    "# Load the data, shuffled and split between train and test sets\n",
    "(X_train_orig, y_train_orig), (X_test_orig, y_test_orig) = lfw.load_data(\"deepfunneled\")"
   ]
  },
  {
   "cell_type": "code",
   "execution_count": 4,
   "metadata": {},
   "outputs": [],
   "source": [
    "(X_train, y_train), (X_test, y_test) = clean(X_train_orig, y_train_orig, X_test_orig, y_test_orig)"
   ]
  },
  {
   "cell_type": "markdown",
   "metadata": {},
   "source": [
    "<a name=\"callbacks\"></a>\n",
    "## Keras Callbacks to Assess Accuracy\n",
    "\n",
    "We'll look at two callbacks:\n",
    "\n",
    "* TensorBoard (built-in callback)\n",
    "* Loss History (custom callback)"
   ]
  },
  {
   "cell_type": "markdown",
   "metadata": {},
   "source": [
    "<a name=\"tensorboard\"></a>\n",
    "### TensorBoard\n",
    "\n",
    "If we are using the TensorFlow backend for Keras, the TensorBoard callback allows us to dump out the status of the training at each step, and monitor the training through a fancy web interface.\n",
    "\n",
    "The TensorBoard callback just dumps out information about the training process that TensorBoard can read - it does not actually start TensorBoard. To run TensorBoard, start it from the command line like this:\n",
    "\n",
    "```\n",
    "$ tensorboard --logdir=logs/\n",
    "```\n",
    "\n",
    "(where `logs/` is the directory specified by the `log_dir` arugment below). Then open the browser to `localhost:6006`."
   ]
  },
  {
   "cell_type": "code",
   "execution_count": 5,
   "metadata": {},
   "outputs": [],
   "source": [
    "from keras.callbacks import TensorBoard \n",
    "tb = TensorBoard(log_dir='./logs', \n",
    "                 write_graph=False, \n",
    "                 histogram_freq=1, \n",
    "                 write_images=True, \n",
    "                 embeddings_freq=0)"
   ]
  },
  {
   "cell_type": "markdown",
   "metadata": {},
   "source": [
    "<a name=\"loss-history\"></a>\n",
    "### Loss History\n",
    "\n",
    "The loss history demonstrates the use of the base Callback class to define some custom behaviors. The two basic behaviors we need to define are:\n",
    "\n",
    "* `on_train_begin` - executed once at the beginning of the training process\n",
    "* `on_batch_end` - executed each time training on one batch is finished"
   ]
  },
  {
   "cell_type": "code",
   "execution_count": 6,
   "metadata": {},
   "outputs": [],
   "source": [
    "from keras.callbacks import Callback\n",
    "class LossHistory(Callback):\n",
    "    def on_train_begin(self, logs={}):\n",
    "        self.losses = []\n",
    "    def on_batch_end(self, batch, logs={}):\n",
    "        self.losses.append(logs.get('loss'))\n",
    "\n",
    "history = LossHistory()"
   ]
  },
  {
   "cell_type": "markdown",
   "metadata": {},
   "source": [
    "## Fitting the Model\n",
    "\n",
    "Once we're ready to fit the model, we pass in the training and testing data, and whatever callback functions we want to use."
   ]
  },
  {
   "cell_type": "code",
   "execution_count": 7,
   "metadata": {},
   "outputs": [
    {
     "name": "stdout",
     "output_type": "stream",
     "text": [
      "Train on 2200 samples, validate on 1000 samples\n",
      "Epoch 1/8\n",
      "2200/2200 [==============================] - 28s - loss: 0.9513 - binary_accuracy: 0.5177 - val_loss: 0.6921 - val_binary_accuracy: 0.5030\n",
      "Epoch 2/8\n",
      "2200/2200 [==============================] - 26s - loss: 0.7102 - binary_accuracy: 0.5359 - val_loss: 0.6873 - val_binary_accuracy: 0.5990\n",
      "Epoch 3/8\n",
      "2200/2200 [==============================] - 25s - loss: 0.7252 - binary_accuracy: 0.5632 - val_loss: 0.6686 - val_binary_accuracy: 0.5950\n",
      "Epoch 4/8\n",
      "2200/2200 [==============================] - 26s - loss: 0.6737 - binary_accuracy: 0.5882 - val_loss: 0.6846 - val_binary_accuracy: 0.5430\n",
      "Epoch 5/8\n",
      "2200/2200 [==============================] - 26s - loss: 0.6893 - binary_accuracy: 0.5986 - val_loss: 0.6551 - val_binary_accuracy: 0.6490\n",
      "Epoch 6/8\n",
      "2200/2200 [==============================] - 28s - loss: 0.6461 - binary_accuracy: 0.6441 - val_loss: 0.6584 - val_binary_accuracy: 0.5800\n",
      "Epoch 7/8\n",
      "2200/2200 [==============================] - 25s - loss: 0.6452 - binary_accuracy: 0.6405 - val_loss: 0.6259 - val_binary_accuracy: 0.6550\n",
      "Epoch 8/8\n",
      "2200/2200 [==============================] - 26s - loss: 0.6235 - binary_accuracy: 0.6536 - val_loss: 0.6020 - val_binary_accuracy: 0.6690\n"
     ]
    },
    {
     "data": {
      "text/plain": [
       "<keras.callbacks.History at 0x127604e10>"
      ]
     },
     "execution_count": 7,
     "metadata": {},
     "output_type": "execute_result"
    }
   ],
   "source": [
    "batch_size = 128\n",
    "num_epochs = 8\n",
    "\n",
    "modelA.fit(X_train, y_train, \n",
    "          batch_size = batch_size, \n",
    "          epochs = num_epochs,\n",
    "          verbose = 1, \n",
    "          validation_data = (X_test, y_test),\n",
    "          callbacks = [tb,history])"
   ]
  },
  {
   "cell_type": "code",
   "execution_count": 8,
   "metadata": {},
   "outputs": [
    {
     "name": "stdout",
     "output_type": "stream",
     "text": [
      "----------------------------------------\n",
      "Seattle Model (8 epochs):\n",
      "Test accuracy: 66.900000%\n"
     ]
    }
   ],
   "source": [
    "score = modelA.evaluate(X_test, y_test, verbose=0)\n",
    "\n",
    "print(\"-\"*40)\n",
    "print(\"Seattle Model (%d epochs):\"%(num_epochs))\n",
    "print('Test accuracy: {0:%}'.format(score[1]))"
   ]
  },
  {
   "cell_type": "code",
   "execution_count": 9,
   "metadata": {},
   "outputs": [
    {
     "data": {
      "image/png": "[encoded data removed]",
      "text/plain": [
       "<matplotlib.figure.Figure at 0x12795c7f0>"
      ]
     },
     "metadata": {},
     "output_type": "display_data"
    }
   ],
   "source": [
    "import matplotlib.pyplot as plt\n",
    "\n",
    "fig = plt.figure()\n",
    "ax = fig.add_subplot(111)\n",
    "\n",
    "yy = history.losses\n",
    "xx = range(len(yy))\n",
    "ax.plot(xx,yy)\n",
    "ax.set_xlabel('Batch')\n",
    "ax.set_ylabel('Loss')\n",
    "plt.show()"
   ]
  },
  {
   "cell_type": "code",
   "execution_count": 10,
   "metadata": {},
   "outputs": [],
   "source": [
    "y_predicted = modelA.predict(X_test)"
   ]
  },
  {
   "cell_type": "code",
   "execution_count": 12,
   "metadata": {},
   "outputs": [
    {
     "name": "stdout",
     "output_type": "stream",
     "text": [
      "Predicted:\n",
      "Zeros: 247\n",
      "Not Sure: 297\n",
      "Ones: 456\n",
      "\n",
      "\n",
      "Actual:\n",
      "Zeros: 500\n",
      "Ones: 500\n"
     ]
    }
   ],
   "source": [
    "print(\"Predicted:\")\n",
    "print(\"Zeros: %d\"%(np.sum(y_predicted<0.4)))\n",
    "print(\"Not Sure: %d\"%(np.sum(np.logical_and(y_predicted>0.4 , y_predicted<0.6))))\n",
    "print(\"Ones: %d\"%(np.sum(y_predicted>0.6)))\n",
    "print(\"\\n\")\n",
    "print(\"Actual:\")\n",
    "print(\"Zeros: %d\"%(np.sum(y_test==0)))\n",
    "print(\"Ones: %d\"%(np.sum(y_test==1)))"
   ]
  },
  {
   "cell_type": "code",
   "execution_count": null,
   "metadata": {},
   "outputs": [],
   "source": []
  }
 ],
 "metadata": {
  "kernelspec": {
   "display_name": "Python 3",
   "language": "python",
   "name": "python3"
  },
  "language_info": {
   "codemirror_mode": {
    "name": "ipython",
    "version": 3
   },
   "file_extension": ".py",
   "mimetype": "text/x-python",
   "name": "python",
   "nbconvert_exporter": "python",
   "pygments_lexer": "ipython3",
   "version": "3.6.2"
  }
 },
 "nbformat": 4,
 "nbformat_minor": 2
}
