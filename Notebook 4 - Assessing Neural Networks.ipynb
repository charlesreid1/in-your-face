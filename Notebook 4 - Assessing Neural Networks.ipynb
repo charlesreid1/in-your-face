{
 "cells": [
  {
   "cell_type": "markdown",
   "metadata": {},
   "source": [
    "# Assessing Neural Networks\n",
    "\n",
    "This notebook demonstrates the use of a few tools for visualizing and assessing neural networks. In particular, this notebook will demonstrate the use of two tools for visualizing and assessing Keras neural networks:\n",
    "* TensorBoard - web dashboard for monitoring progress of TensorFlow graphs (Keras can be hooked up to TensorBoard)"
   ]
  },
  {
   "cell_type": "markdown",
   "metadata": {},
   "source": [
    "## Using a Baseline Keras Model\n",
    "\n",
    "We'll start with a small, quick-to-train, poorly-performing Keras model, so that we can get straight to the mechanics of the tools.\n",
    "\n",
    "To ease the assembly of models, and make them hot-swappable, we wrap model construction with objects in separate Python files. The models are named after American cities, and get progressively complex as the cities move east.\n",
    "\n",
    "* Seattle - first pass, very basic CNN model, 50% accuracy\n",
    "\n",
    "Future/planned models:\n",
    "\n",
    "* Reno\n",
    "* Phoenix\n",
    "* Yellowstone\n",
    "* Denver\n",
    "* Omaha\n",
    "* Kansas City\n",
    "* Chicago\n",
    "* Atlanta\n",
    "* Richmond\n",
    "* Washington\n",
    "* Philly\n",
    "* Manhattan\n",
    "* Boston"
   ]
  },
  {
   "cell_type": "code",
   "execution_count": 1,
   "metadata": {},
   "outputs": [],
   "source": [
    "%matplotlib inline"
   ]
  },
  {
   "cell_type": "code",
   "execution_count": 2,
   "metadata": {},
   "outputs": [
    {
     "name": "stderr",
     "output_type": "stream",
     "text": [
      "Using TensorFlow backend.\n"
     ]
    }
   ],
   "source": [
    "import numpy as np\n",
    "np.random.seed(1337)\n",
    "from scipy.misc import imresize \n",
    "\n",
    "# neural network constructor\n",
    "from inyourface_seattle import seattle_model\n",
    "\n",
    "# data constructor\n",
    "from lfw_fuel import lfw\n",
    "\n",
    "# utils\n",
    "from keras.utils import np_utils\n",
    "from keras import metrics\n",
    "from keras.optimizers import SGD\n",
    "\n",
    "# plots\n",
    "import matplotlib.pyplot as plt"
   ]
  },
  {
   "cell_type": "code",
   "execution_count": 3,
   "metadata": {},
   "outputs": [],
   "source": [
    "# This is the simplest set of parameters,\n",
    "# and leads to a so-so model.\n",
    "\n",
    "BATCH_SIZE     = 128\n",
    "NB_CLASSES     = 2\n",
    "NB_EPOCH       = 12\n",
    "N_FEATURE_MAPS = 32\n",
    "FEATURE_WIDTH  = 32\n",
    "FEATURE_HEIGHT = 32"
   ]
  },
  {
   "cell_type": "code",
   "execution_count": 4,
   "metadata": {},
   "outputs": [],
   "source": [
    "# the data, shuffled and split between train and test sets\n",
    "(X_train, y_train), (X_test, y_test) = lfw.load_data(\"deepfunneled\")"
   ]
  },
  {
   "cell_type": "code",
   "execution_count": 5,
   "metadata": {},
   "outputs": [],
   "source": [
    "# The cropImage function starts by cropping the image from 250x250 to 128x128\n",
    "# It then scales the image to feature_width x feature_height\n",
    "def cropImage(im, feature_width = FEATURE_WIDTH, feature_height = FEATURE_HEIGHT):\n",
    "    im2 = np.dstack(im).astype(np.uint8)\n",
    "    # return centered 128x128 from original 250x250 (40% of area)\n",
    "    newim = im2[61:189, 61:189]\n",
    "    sized1 = imresize(newim[:,:,0:3], (feature_width, feature_height), interp=\"bicubic\", mode=\"RGB\")\n",
    "    sized2 = imresize(newim[:,:,3:6], (feature_width, feature_height), interp=\"bicubic\", mode=\"RGB\")\n",
    "    return np.asarray([sized1[:,:,0], sized1[:,:,1], sized1[:,:,2], sized2[:,:,0], sized2[:,:,1], sized2[:,:,2]])\n",
    "\n",
    "# Crop features\n",
    "X_train = np.asarray(list(map(cropImage, X_train)))\n",
    "X_test = np.asarray(list(map(cropImage, X_test)))"
   ]
  },
  {
   "cell_type": "code",
   "execution_count": 6,
   "metadata": {},
   "outputs": [
    {
     "name": "stdout",
     "output_type": "stream",
     "text": [
      "(2200, 6, 32, 32)\n",
      "(1000, 6, 32, 32)\n"
     ]
    }
   ],
   "source": [
    "print(np.shape(X_train))\n",
    "print(np.shape(X_test))"
   ]
  },
  {
   "cell_type": "code",
   "execution_count": 7,
   "metadata": {},
   "outputs": [],
   "source": [
    "# convert class vectors to binary class matrices\n",
    "Y_train = np_utils.to_categorical(y_train, NB_CLASSES)\n",
    "Y_test = np_utils.to_categorical(y_test, NB_CLASSES)"
   ]
  },
  {
   "cell_type": "code",
   "execution_count": 14,
   "metadata": {},
   "outputs": [],
   "source": [
    "model = seattle_model( batch_size = BATCH_SIZE, \n",
    "                       nb_classes = NB_CLASSES,\n",
    "                       nb_epoch = NB_EPOCH,\n",
    "                       feature_maps = N_FEATURE_MAPS,\n",
    "                       input_width = FEATURE_WIDTH,\n",
    "                       input_height = FEATURE_HEIGHT\n",
    "                     )"
   ]
  },
  {
   "cell_type": "code",
   "execution_count": 15,
   "metadata": {},
   "outputs": [
    {
     "name": "stdout",
     "output_type": "stream",
     "text": [
      "_________________________________________________________________\n",
      "Layer (type)                 Output Shape              Param #   \n",
      "=================================================================\n",
      "conv2d_3 (Conv2D)            (None, 32, 30, 30)        1760      \n",
      "_________________________________________________________________\n",
      "activation_3 (Activation)    (None, 32, 30, 30)        0         \n",
      "_________________________________________________________________\n",
      "conv2d_4 (Conv2D)            (None, 32, 28, 28)        9248      \n",
      "_________________________________________________________________\n",
      "activation_4 (Activation)    (None, 32, 28, 28)        0         \n",
      "_________________________________________________________________\n",
      "max_pooling2d_2 (MaxPooling2 (None, 32, 14, 14)        0         \n",
      "_________________________________________________________________\n",
      "dropout_3 (Dropout)          (None, 32, 14, 14)        0         \n",
      "_________________________________________________________________\n",
      "flatten_2 (Flatten)          (None, 6272)              0         \n",
      "_________________________________________________________________\n",
      "dense_2 (Dense)              (None, 128)               802944    \n",
      "_________________________________________________________________\n",
      "dropout_4 (Dropout)          (None, 128)               0         \n",
      "_________________________________________________________________\n",
      "predictions (Dense)          (None, 2)                 258       \n",
      "=================================================================\n",
      "Total params: 814,210\n",
      "Trainable params: 814,210\n",
      "Non-trainable params: 0\n",
      "_________________________________________________________________\n",
      "None\n"
     ]
    }
   ],
   "source": [
    "print(model.summary())"
   ]
  },
  {
   "cell_type": "code",
   "execution_count": 16,
   "metadata": {},
   "outputs": [],
   "source": [
    "# Optimization solver:\n",
    "# Logarithmic loss function, plus stoachastic gradient descent\n",
    "# Configure with a large momentum, large weight decay, small learning rate\n",
    "LEARN_RATE = 0.1\n",
    "MOMENTUM = 0.9\n",
    "DECAY = LEARN_RATE/NB_EPOCH\n",
    "\n",
    "sgd = SGD(lr=LEARN_RATE, \n",
    "          momentum=MOMENTUM, \n",
    "          decay=DECAY, \n",
    "          nesterov=False)\n",
    "\n",
    "model.compile(loss='categorical_crossentropy', \n",
    "              optimizer=sgd, \n",
    "              metrics=[metrics.binary_accuracy, metrics.categorical_accuracy, metrics.mae])"
   ]
  },
  {
   "cell_type": "markdown",
   "metadata": {},
   "source": [
    "## TensorBoard\n",
    "\n",
    "In order to monitor and evaluate how well the neural network learning process is going, the TensorFlow library provides a tool called TensorBoard that will plot various quantities for the neural network versus time.\n",
    "\n",
    "Start tensorboard like this:\n",
    "\n",
    "```\n",
    "$ tensorboard --logdir=logs/\n",
    "```\n",
    "\n",
    "then open the browser to `localhost:6006`."
   ]
  },
  {
   "cell_type": "code",
   "execution_count": 17,
   "metadata": {},
   "outputs": [],
   "source": [
    "from keras.callbacks import TensorBoard \n",
    "tb = TensorBoard(log_dir='./logs', write_graph=True, histogram_freq=0, write_images=True, embeddings_freq=0)\n",
    "\n",
    "from keras.callbacks import Callback\n",
    "class LossHistory(Callback):\n",
    "    def on_train_begin(self, logs={}):\n",
    "        self.losses = []\n",
    "    def on_batch_end(self, batch, logs={}):\n",
    "        self.losses.append(logs.get('loss'))\n",
    "\n",
    "history = LossHistory()"
   ]
  },
  {
   "cell_type": "code",
   "execution_count": 18,
   "metadata": {},
   "outputs": [
    {
     "name": "stdout",
     "output_type": "stream",
     "text": [
      "Train on 2200 samples, validate on 1000 samples\n",
      "Epoch 1/12\n",
      "2200/2200 [==============================] - 23s - loss: 0.6947 - binary_accuracy: 0.5095 - categorical_accuracy: 0.5105 - mean_absolute_error: 0.5002 - val_loss: 0.7059 - val_binary_accuracy: 0.5000 - val_categorical_accuracy: 0.5000 - val_mean_absolute_error: 0.4996\n",
      "Epoch 2/12\n",
      "2200/2200 [==============================] - 23s - loss: 0.6997 - binary_accuracy: 0.5086 - categorical_accuracy: 0.5086 - mean_absolute_error: 0.5001 - val_loss: 0.6983 - val_binary_accuracy: 0.5000 - val_categorical_accuracy: 0.5000 - val_mean_absolute_error: 0.4998\n",
      "Epoch 3/12\n",
      "2200/2200 [==============================] - 23s - loss: 0.6965 - binary_accuracy: 0.4818 - categorical_accuracy: 0.4818 - mean_absolute_error: 0.5008 - val_loss: 0.6941 - val_binary_accuracy: 0.5000 - val_categorical_accuracy: 0.5000 - val_mean_absolute_error: 0.4999\n",
      "Epoch 4/12\n",
      "2200/2200 [==============================] - 23s - loss: 0.6948 - binary_accuracy: 0.5009 - categorical_accuracy: 0.5009 - mean_absolute_error: 0.5003 - val_loss: 0.6932 - val_binary_accuracy: 0.5090 - val_categorical_accuracy: 0.5090 - val_mean_absolute_error: 0.4998\n",
      "Epoch 5/12\n",
      "2200/2200 [==============================] - 24s - loss: 0.6923 - binary_accuracy: 0.5041 - categorical_accuracy: 0.5041 - mean_absolute_error: 0.4993 - val_loss: 0.6932 - val_binary_accuracy: 0.5100 - val_categorical_accuracy: 0.5100 - val_mean_absolute_error: 0.4998\n",
      "Epoch 6/12\n",
      "2200/2200 [==============================] - 23s - loss: 0.6926 - binary_accuracy: 0.5068 - categorical_accuracy: 0.5068 - mean_absolute_error: 0.4993 - val_loss: 0.6928 - val_binary_accuracy: 0.5190 - val_categorical_accuracy: 0.5190 - val_mean_absolute_error: 0.4997\n",
      "Epoch 7/12\n",
      "2200/2200 [==============================] - 23s - loss: 0.6902 - binary_accuracy: 0.5218 - categorical_accuracy: 0.5218 - mean_absolute_error: 0.4981 - val_loss: 0.6933 - val_binary_accuracy: 0.5200 - val_categorical_accuracy: 0.5200 - val_mean_absolute_error: 0.4997\n",
      "Epoch 8/12\n",
      "2200/2200 [==============================] - 23s - loss: 0.6904 - binary_accuracy: 0.5109 - categorical_accuracy: 0.5109 - mean_absolute_error: 0.4980 - val_loss: 0.6925 - val_binary_accuracy: 0.5170 - val_categorical_accuracy: 0.5170 - val_mean_absolute_error: 0.4994\n",
      "Epoch 9/12\n",
      "2200/2200 [==============================] - 23s - loss: 0.6876 - binary_accuracy: 0.5268 - categorical_accuracy: 0.5268 - mean_absolute_error: 0.4965 - val_loss: 0.6925 - val_binary_accuracy: 0.5180 - val_categorical_accuracy: 0.5180 - val_mean_absolute_error: 0.4989\n",
      "Epoch 10/12\n",
      "2200/2200 [==============================] - 23s - loss: 0.6858 - binary_accuracy: 0.5305 - categorical_accuracy: 0.5305 - mean_absolute_error: 0.4944 - val_loss: 0.6944 - val_binary_accuracy: 0.5090 - val_categorical_accuracy: 0.5090 - val_mean_absolute_error: 0.4993\n",
      "Epoch 11/12\n",
      "2200/2200 [==============================] - 23s - loss: 0.6849 - binary_accuracy: 0.5195 - categorical_accuracy: 0.5195 - mean_absolute_error: 0.4947 - val_loss: 0.6929 - val_binary_accuracy: 0.5240 - val_categorical_accuracy: 0.5240 - val_mean_absolute_error: 0.4993\n",
      "Epoch 12/12\n",
      "2200/2200 [==============================] - 23s - loss: 0.6818 - binary_accuracy: 0.5327 - categorical_accuracy: 0.5327 - mean_absolute_error: 0.4923 - val_loss: 0.6925 - val_binary_accuracy: 0.5190 - val_categorical_accuracy: 0.5190 - val_mean_absolute_error: 0.4983\n"
     ]
    },
    {
     "data": {
      "text/plain": [
       "<keras.callbacks.History at 0x12369ce48>"
      ]
     },
     "execution_count": 18,
     "metadata": {},
     "output_type": "execute_result"
    }
   ],
   "source": [
    "model.fit(X_train, Y_train, \n",
    "          batch_size = BATCH_SIZE, \n",
    "          epochs = NB_EPOCH, \n",
    "          verbose = 1, \n",
    "          validation_data = (X_test, Y_test),\n",
    "          callbacks = [tb,history])"
   ]
  },
  {
   "cell_type": "code",
   "execution_count": 19,
   "metadata": {},
   "outputs": [
    {
     "name": "stdout",
     "output_type": "stream",
     "text": [
      "----------------------------------------\n",
      "Seattle Model (12 epochs):\n",
      "Test accuracy: 51.900000%\n"
     ]
    }
   ],
   "source": [
    "# lower-case y_test is not encoded, CAPITAL Y_test is encoded - use CAPITAL-Y_test!!\n",
    "score = model.evaluate(X_test, Y_test, verbose=0)\n",
    "\n",
    "print(\"-\"*40)\n",
    "print(\"Seattle Model (12 epochs):\")\n",
    "print('Test accuracy: {0:%}'.format(score[1]))"
   ]
  },
  {
   "cell_type": "code",
   "execution_count": 20,
   "metadata": {},
   "outputs": [
    {
     "data": {
      "text/plain": [
       "[<matplotlib.lines.Line2D at 0x123b42470>]"
      ]
     },
     "execution_count": 20,
     "metadata": {},
     "output_type": "execute_result"
    },
    {
     "data": {
      "image/png": "[encoded data removed]",
      "text/plain": [
       "<matplotlib.figure.Figure at 0x123287898>"
      ]
     },
     "metadata": {},
     "output_type": "display_data"
    }
   ],
   "source": [
    "yy = history.losses\n",
    "xx = range(len(yy))\n",
    "plt.plot(xx,yy)"
   ]
  },
  {
   "cell_type": "code",
   "execution_count": 23,
   "metadata": {},
   "outputs": [],
   "source": [
    "Y_pred = model.predict(X_test)"
   ]
  },
  {
   "cell_type": "code",
   "execution_count": 26,
   "metadata": {},
   "outputs": [
    {
     "name": "stdout",
     "output_type": "stream",
     "text": [
      "[[ 0.48885226  0.51114774]\n",
      " [ 0.48388958  0.51611048]\n",
      " [ 0.49398416  0.50601584]\n",
      " [ 0.49398416  0.50601584]\n",
      " [ 0.49398416  0.50601584]]\n"
     ]
    }
   ],
   "source": [
    "#print(len(Y_pred))\n",
    "print(Y_pred[10:15])"
   ]
  },
  {
   "cell_type": "code",
   "execution_count": 28,
   "metadata": {},
   "outputs": [
    {
     "name": "stdout",
     "output_type": "stream",
     "text": [
      "[[ 0.  1.]\n",
      " [ 0.  1.]\n",
      " [ 1.  0.]\n",
      " [ 0.  1.]\n",
      " [ 1.  0.]]\n"
     ]
    }
   ],
   "source": [
    "#print(len(Y_test))\n",
    "print(Y_test[10:15])"
   ]
  },
  {
   "cell_type": "code",
   "execution_count": null,
   "metadata": {},
   "outputs": [],
   "source": []
  }
 ],
 "metadata": {
  "kernelspec": {
   "display_name": "Python 3",
   "language": "python",
   "name": "python3"
  },
  "language_info": {
   "codemirror_mode": {
    "name": "ipython",
    "version": 3
   },
   "file_extension": ".py",
   "mimetype": "text/x-python",
   "name": "python",
   "nbconvert_exporter": "python",
   "pygments_lexer": "ipython3",
   "version": "3.6.2"
  }
 },
 "nbformat": 4,
 "nbformat_minor": 2
}
